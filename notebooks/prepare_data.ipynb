{
 "cells": [
  {
   "cell_type": "code",
   "execution_count": null,
   "metadata": {},
   "outputs": [],
   "source": [
    "import glob\n",
    "from pathlib import Path\n",
    "\n",
    "import pandas as pd\n",
    "import xarray as xr\n",
    "\n",
    "from blooms_ml.utils import (\n",
    "    sample_stations_sparse,\n",
    "    get_from_dia,\n",
    "    get_from_avg,\n",
    ")"
   ]
  },
  {
   "cell_type": "code",
   "execution_count": null,
   "metadata": {},
   "outputs": [],
   "source": [
    "files_dia = sorted(glob.glob(\n",
    "    f\"{Path.home()}/fram_shmiak/ROHO800_hindcast_2007_2019_v2bu/roho800_v2bu_dia/*dia*.nc\"\n",
    "))[:20]\n",
    "files_avg = sorted(glob.glob(\n",
    "    f\"{Path.home()}/fram_shmiak/ROHO800_hindcast_2007_2019_v2bu/roho800_v2bu_avg/*avg*.nc\"\n",
    "))[:20]"
   ]
  },
  {
   "cell_type": "code",
   "execution_count": null,
   "metadata": {},
   "outputs": [],
   "source": [
    "stations, st_labels, xis, etas = sample_stations_sparse(xr.open_dataset(files_dia[0]))"
   ]
  },
  {
   "cell_type": "code",
   "execution_count": null,
   "metadata": {},
   "outputs": [],
   "source": [
    "ds_dia = xr.open_mfdataset(files_dia)\n",
    "ds_avg = xr.open_mfdataset(files_avg)"
   ]
  },
  {
   "cell_type": "code",
   "execution_count": null,
   "metadata": {},
   "outputs": [],
   "source": [
    "ddf_dia = get_from_dia(ds_dia, xis, etas)\n",
    "df_dia_orig = ddf_dia.compute()"
   ]
  },
  {
   "cell_type": "code",
   "execution_count": null,
   "metadata": {},
   "outputs": [],
   "source": [
    "ddf = get_from_avg(ds_avg, xis, etas)\n",
    "df_orig = ddf.compute()"
   ]
  },
  {
   "cell_type": "markdown",
   "metadata": {},
   "source": [
    "Reset index and re-multiindex since if it is in the wrong order pandas will silently mess up everything."
   ]
  },
  {
   "cell_type": "code",
   "execution_count": null,
   "metadata": {},
   "outputs": [],
   "source": [
    "df_dia = df_dia_orig.reset_index().drop('index', axis=1).set_index(['station', 'ocean_time', 's_rho'])\n",
    "df = df_orig.reset_index().drop('index', axis=1).set_index(['station', 'ocean_time', 's_rho'])"
   ]
  },
  {
   "cell_type": "code",
   "execution_count": null,
   "metadata": {},
   "outputs": [],
   "source": [
    "df['light_PAR0'] = df_dia['light_PAR0']\n",
    "df['P1_netPI'] = df_dia['P1_netPI']"
   ]
  },
  {
   "cell_type": "code",
   "execution_count": null,
   "metadata": {},
   "outputs": [],
   "source": [
    "df_station = df_dia.reset_index()[df_dia.reset_index()['station']==0][df_dia.reset_index()['s_rho']==-0.02]\n",
    "df_station.set_index('ocean_time', inplace=True)\n",
    "df_station['light_PAR0'].plot(figsize=(14, 7))"
   ]
  },
  {
   "cell_type": "code",
   "execution_count": null,
   "metadata": {},
   "outputs": [],
   "source": [
    "df_station = df.reset_index()[df.reset_index()['station'] == 0][df.reset_index()['s_rho'] == -0.02]\n",
    "df_station.set_index('ocean_time', inplace=True)\n",
    "df_station['light_PAR0'].plot(figsize=(14, 7))"
   ]
  },
  {
   "cell_type": "code",
   "execution_count": null,
   "metadata": {},
   "outputs": [],
   "source": [
    "def normalize_series(row: pd.Series):\n",
    "    return ((row - row.mean()) / row.std()).round(2).astype('float32')\n",
    "\n",
    "def append_rho_profiles(df_station, nlayers: int = 25):\n",
    "    df_station = df_station.reset_index(drop=True)\n",
    "    rho = df_station.pivot(index='ocean_time', columns='s_rho', values='rho')\n",
    "    new_columns = [str(i) for i in range(1, len(rho.columns)+1)]\n",
    "    rho.rename(columns=dict(zip(rho.columns[:], new_columns)), inplace=True)\n",
    "    rho = rho.apply(normalize_series, axis=1)\n",
    "    rho = rho.loc[rho.index.repeat(nlayers)]\n",
    "    rho = rho.rename_axis(None, axis=1)\n",
    "    rho = rho.reset_index()\n",
    "    return pd.concat([df_station, rho.iloc[:, 1:]], axis=1)"
   ]
  },
  {
   "cell_type": "code",
   "execution_count": null,
   "metadata": {},
   "outputs": [],
   "source": [
    "df = df.reset_index().groupby('station').apply(append_rho_profiles)"
   ]
  },
  {
   "cell_type": "code",
   "execution_count": null,
   "metadata": {},
   "outputs": [],
   "source": [
    "df = df[df['s_rho'] > -0.3]  # surface\n",
    "df = df.reset_index(drop=True)\n",
    "df.iloc[:, 3:11] = df.iloc[:, 3:11].apply(normalize_series, axis=0)"
   ]
  },
  {
   "cell_type": "code",
   "execution_count": null,
   "metadata": {},
   "outputs": [],
   "source": [
    "df"
   ]
  },
  {
   "cell_type": "code",
   "execution_count": null,
   "metadata": {},
   "outputs": [],
   "source": [
    "df.to_parquet(f\"{Path.home()}/data_ROHO/all-stations-norm.parquet\")"
   ]
  }
 ],
 "metadata": {
  "kernelspec": {
   "display_name": "blooms-ml",
   "language": "python",
   "name": "python3"
  },
  "language_info": {
   "codemirror_mode": {
    "name": "ipython",
    "version": 3
   },
   "file_extension": ".py",
   "mimetype": "text/x-python",
   "name": "python",
   "nbconvert_exporter": "python",
   "pygments_lexer": "ipython3",
   "version": "3.10.13"
  }
 },
 "nbformat": 4,
 "nbformat_minor": 2
}
