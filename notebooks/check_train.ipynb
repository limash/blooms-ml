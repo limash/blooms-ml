{
 "cells": [
  {
   "cell_type": "code",
   "execution_count": null,
   "metadata": {},
   "outputs": [],
   "source": [
    "import os\n",
    "from pathlib import Path\n",
    "\n",
    "import jax\n",
    "import orbax.checkpoint as ocp\n",
    "from jax import numpy as jnp\n",
    "import seaborn as sns\n",
    "\n",
    "from blooms_ml.configs import default\n",
    "from blooms_ml.learning import create_train_state\n",
    "from blooms_ml.utils import (\n",
    "    get_dataframe,\n",
    "    get_stats,\n",
    ")"
   ]
  },
  {
   "cell_type": "code",
   "execution_count": null,
   "metadata": {},
   "outputs": [],
   "source": [
    "sns.set_style(\"whitegrid\")"
   ]
  },
  {
   "cell_type": "markdown",
   "metadata": {},
   "source": [
    "### Get & Prepare data"
   ]
  },
  {
   "cell_type": "code",
   "execution_count": null,
   "metadata": {},
   "outputs": [],
   "source": [
    "datadir = os.path.join(Path.home(), \"data_ROHO\")\n",
    "(p1_c_mean, n1_p_mean, n3_n_mean, n5_s_mean,\n",
    " p1_c_std, n1_p_std, n3_n_std, n5_s_std) = get_stats(os.path.join(datadir, \"cnps_mean_std.csv\"))"
   ]
  },
  {
   "cell_type": "code",
   "execution_count": null,
   "metadata": {},
   "outputs": [],
   "source": [
    "df = get_dataframe(datadir)\n",
    "df = df[df['ocean_time'] > '2013-01-01']  # keep test data only\n",
    "df = df[df['y'].notna()]"
   ]
  },
  {
   "cell_type": "code",
   "execution_count": null,
   "metadata": {},
   "outputs": [],
   "source": [
    "df_station = df[df['station'] == 0][df['s_rho'] == -0.02]\n",
    "df_station.set_index('ocean_time', inplace=True)"
   ]
  },
  {
   "cell_type": "code",
   "execution_count": null,
   "metadata": {},
   "outputs": [],
   "source": [
    "df_station"
   ]
  },
  {
   "cell_type": "code",
   "execution_count": null,
   "metadata": {},
   "outputs": [],
   "source": [
    "df_obs = df_station.drop(columns=['station', 's_rho', 'P1_c', 'rho', 'y'])\n",
    "# \"normalize\"\n",
    "df_obs['N1_p'] = ((df_obs['N1_p'] - float(n1_p_mean)) / float(n1_p_std)).round(2).astype('float32')\n",
    "df_obs['N3_n'] = ((df_obs['N3_n'] - float(n3_n_mean)) / float(n3_n_std)).round(2).astype('float32')\n",
    "df_obs['N5_s'] = ((df_obs['N5_s'] - float(n5_s_mean)) / float(n5_s_std)).round(2).astype('float32')"
   ]
  },
  {
   "cell_type": "code",
   "execution_count": null,
   "metadata": {},
   "outputs": [],
   "source": [
    "df_obs"
   ]
  },
  {
   "cell_type": "code",
   "execution_count": null,
   "metadata": {},
   "outputs": [],
   "source": [
    "data = {\n",
    "    'label': df_obs['label'].values,\n",
    "    'observations': jnp.float32(df_obs.drop(columns=['label']).values),\n",
    "}"
   ]
  },
  {
   "cell_type": "markdown",
   "metadata": {},
   "source": [
    "### Inference"
   ]
  },
  {
   "cell_type": "code",
   "execution_count": null,
   "metadata": {},
   "outputs": [],
   "source": [
    "checkpointdir = os.path.join(Path.home(), \"blooms-ml_results/q2nm_vgs/checkpoint\")\n",
    "orbax_checkpointer = ocp.StandardCheckpointer()\n",
    "rng = jax.random.key(0)\n",
    "rng, init_rng = jax.random.split(rng)\n",
    "config = default.get_config()"
   ]
  },
  {
   "cell_type": "code",
   "execution_count": null,
   "metadata": {},
   "outputs": [],
   "source": [
    "state = create_train_state(init_rng, config, data['observations'].shape)\n",
    "abstract_my_tree = jax.tree_util.tree_map(ocp.utils.to_shape_dtype_struct, state)"
   ]
  },
  {
   "cell_type": "code",
   "execution_count": null,
   "metadata": {},
   "outputs": [],
   "source": [
    "state = orbax_checkpointer.restore(checkpointdir, args=ocp.args.StandardRestore(abstract_my_tree))"
   ]
  },
  {
   "cell_type": "code",
   "execution_count": null,
   "metadata": {},
   "outputs": [],
   "source": [
    "logits = state.apply_fn({\"params\": state.params}, data['observations'])"
   ]
  },
  {
   "cell_type": "markdown",
   "metadata": {},
   "source": [
    "### Visualization"
   ]
  },
  {
   "cell_type": "code",
   "execution_count": null,
   "metadata": {},
   "outputs": [],
   "source": [
    "df_station['prediction'] = jax.nn.softmax(logits)[:, 1]"
   ]
  },
  {
   "cell_type": "code",
   "execution_count": null,
   "metadata": {},
   "outputs": [],
   "source": [
    "df_station['prediction'].plot(figsize=(14, 5))"
   ]
  },
  {
   "cell_type": "code",
   "execution_count": null,
   "metadata": {},
   "outputs": [],
   "source": [
    "df_station['P1_c'].plot(figsize=(14, 5))"
   ]
  },
  {
   "cell_type": "code",
   "execution_count": null,
   "metadata": {},
   "outputs": [],
   "source": [
    "df_station['label'].plot(figsize=(14, 5))"
   ]
  },
  {
   "cell_type": "code",
   "execution_count": null,
   "metadata": {},
   "outputs": [],
   "source": []
  }
 ],
 "metadata": {
  "kernelspec": {
   "display_name": "blooms-ml",
   "language": "python",
   "name": "python3"
  },
  "language_info": {
   "codemirror_mode": {
    "name": "ipython",
    "version": 3
   },
   "file_extension": ".py",
   "mimetype": "text/x-python",
   "name": "python",
   "nbconvert_exporter": "python",
   "pygments_lexer": "ipython3",
   "version": "3.10.13"
  }
 },
 "nbformat": 4,
 "nbformat_minor": 2
}
