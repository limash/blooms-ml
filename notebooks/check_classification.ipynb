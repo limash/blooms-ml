{
 "cells": [
  {
   "cell_type": "code",
   "execution_count": null,
   "metadata": {},
   "outputs": [],
   "source": [
    "import os\n",
    "from pathlib import Path\n",
    "\n",
    "import jax\n",
    "import matplotlib.pyplot as plt\n",
    "import orbax.checkpoint as ocp\n",
    "import pandas as pd\n",
    "from jax import numpy as jnp\n",
    "\n",
    "from blooms_ml.configs import classification\n",
    "from blooms_ml.learning import create_train_state\n",
    "from blooms_ml.utils import (\n",
    "    labeling_binary_incremented,\n",
    ")"
   ]
  },
  {
   "cell_type": "markdown",
   "metadata": {},
   "source": [
    "### Get & Prepare data"
   ]
  },
  {
   "cell_type": "code",
   "execution_count": null,
   "metadata": {},
   "outputs": [],
   "source": [
    "datadir = os.path.join(Path.home(), \"data_ROHO\")\n",
    "df = pd.read_parquet(os.path.join(datadir, \"roho800_weekly_average_stacked.parquet\"))\n",
    "df = df.groupby([\"station\", \"s_rho\"]).apply(labeling_binary_incremented, include_groups=False)\n",
    "df = df.reset_index().drop(columns=\"level_2\")"
   ]
  },
  {
   "cell_type": "code",
   "execution_count": null,
   "metadata": {},
   "outputs": [],
   "source": [
    "df"
   ]
  },
  {
   "cell_type": "code",
   "execution_count": null,
   "metadata": {},
   "outputs": [],
   "source": [
    "df = df[df['ocean_time'] > '2013-01-01']  # keep test data only\n",
    "df = df[df['label'].notna()]"
   ]
  },
  {
   "cell_type": "code",
   "execution_count": null,
   "metadata": {},
   "outputs": [],
   "source": [
    "df['s_rho'].unique()"
   ]
  },
  {
   "cell_type": "code",
   "execution_count": null,
   "metadata": {},
   "outputs": [],
   "source": [
    "df['station'].unique()"
   ]
  },
  {
   "cell_type": "code",
   "execution_count": null,
   "metadata": {},
   "outputs": [],
   "source": [
    "station_number = 0"
   ]
  },
  {
   "cell_type": "code",
   "execution_count": null,
   "metadata": {},
   "outputs": [],
   "source": [
    "df_station = df[df['station'] == station_number][df['s_rho'] == -0.02]\n",
    "df_station.set_index('ocean_time', inplace=True)"
   ]
  },
  {
   "cell_type": "code",
   "execution_count": null,
   "metadata": {},
   "outputs": [],
   "source": [
    "df_station"
   ]
  },
  {
   "cell_type": "code",
   "execution_count": null,
   "metadata": {},
   "outputs": [],
   "source": [
    "df_obs = df_station.drop(columns=['station', 's_rho'])"
   ]
  },
  {
   "cell_type": "code",
   "execution_count": null,
   "metadata": {},
   "outputs": [],
   "source": [
    "df_obs"
   ]
  },
  {
   "cell_type": "code",
   "execution_count": null,
   "metadata": {},
   "outputs": [],
   "source": [
    "data = {\n",
    "    'label': df_obs['label'].values,\n",
    "    'observations': jnp.float32(df_obs.drop(columns=['label']).values),\n",
    "}"
   ]
  },
  {
   "cell_type": "markdown",
   "metadata": {},
   "source": [
    "### Inference"
   ]
  },
  {
   "cell_type": "code",
   "execution_count": null,
   "metadata": {},
   "outputs": [],
   "source": [
    "checkpointdir = os.path.join(Path.home(), \"blooms-ml_results/b96ucher/chkpt_epoch_030\")\n",
    "orbax_checkpointer = ocp.StandardCheckpointer()\n",
    "rng = jax.random.PRNGKey(0)  # jax.random.key(0)\n",
    "rng, init_rng = jax.random.split(rng)"
   ]
  },
  {
   "cell_type": "code",
   "execution_count": null,
   "metadata": {},
   "outputs": [],
   "source": [
    "state = create_train_state(init_rng, classification(), data['observations'].shape)\n",
    "abstract_my_tree = jax.tree_util.tree_map(ocp.utils.to_shape_dtype_struct, state)"
   ]
  },
  {
   "cell_type": "code",
   "execution_count": null,
   "metadata": {},
   "outputs": [],
   "source": [
    "state = orbax_checkpointer.restore(checkpointdir, args=ocp.args.StandardRestore(abstract_my_tree))"
   ]
  },
  {
   "cell_type": "code",
   "execution_count": null,
   "metadata": {},
   "outputs": [],
   "source": [
    "logits = state.apply_fn({\"params\": state.params}, data['observations'])"
   ]
  },
  {
   "cell_type": "markdown",
   "metadata": {},
   "source": [
    "### Visualization"
   ]
  },
  {
   "cell_type": "code",
   "execution_count": null,
   "metadata": {},
   "outputs": [],
   "source": [
    "df_station['prediction'] = jax.nn.softmax(logits)[:, 1]\n",
    "df_label = df_station[df_station['label'] == 1]"
   ]
  },
  {
   "cell_type": "code",
   "execution_count": null,
   "metadata": {},
   "outputs": [],
   "source": [
    "_, ax1 = plt.subplots(figsize=(20, 5))\n",
    "ax1.plot(df_station.index, df_station['P1_c'], 'b-')\n",
    "ax1.plot(df_label.index, df_label['P1_c'], 'r.')\n",
    "ax1.set_ylabel('Carbon', color='b')\n",
    "\n",
    "ax2 = ax1.twinx()\n",
    "ax2.plot(df_station.index, df_station['prediction'], 'c-')\n",
    "ax2.set_ylabel('Prediction probability', color='c')\n",
    "\n",
    "# savepath = os.path.join(Path.home(), f\"tmp/blooms-ml_results/station_{station_number:04}.png\")\n",
    "# plt.savefig(savepath, dpi=300)"
   ]
  },
  {
   "cell_type": "code",
   "execution_count": null,
   "metadata": {},
   "outputs": [],
   "source": []
  }
 ],
 "metadata": {
  "kernelspec": {
   "display_name": "blooms-ml",
   "language": "python",
   "name": "python3"
  },
  "language_info": {
   "codemirror_mode": {
    "name": "ipython",
    "version": 3
   },
   "file_extension": ".py",
   "mimetype": "text/x-python",
   "name": "python",
   "nbconvert_exporter": "python",
   "pygments_lexer": "ipython3",
   "version": "3.12.3"
  }
 },
 "nbformat": 4,
 "nbformat_minor": 2
}
