{
 "cells": [
  {
   "cell_type": "code",
   "execution_count": null,
   "metadata": {},
   "outputs": [],
   "source": [
    "from datetime import timedelta\n",
    "from pathlib import Path\n",
    "\n",
    "import matplotlib.pyplot as plt\n",
    "import numpy as np\n",
    "import pandas as pd"
   ]
  },
  {
   "cell_type": "code",
   "execution_count": null,
   "metadata": {},
   "outputs": [],
   "source": [
    "def keep_time_integrity(df):\n",
    "    df = df.sort_values(by=\"Time\")\n",
    "    df[\"time_diff\"] = df[\"Time\"].diff()\n",
    "    first_large_diff_idx = df[df[\"time_diff\"] > pd.Timedelta(minutes=10)].index.min()\n",
    "    if pd.notna(first_large_diff_idx):\n",
    "        filtered_df = df.loc[: first_large_diff_idx - 1].drop(columns=\"time_diff\")\n",
    "    else:\n",
    "        filtered_df = df.drop(columns=\"time_diff\")\n",
    "    return filtered_df"
   ]
  },
  {
   "cell_type": "code",
   "execution_count": null,
   "metadata": {},
   "outputs": [],
   "source": [
    "def plot_temp_salt_flu(df):\n",
    "    # Create figure and axis\n",
    "    fig, ax1 = plt.subplots(figsize=(20, 3))\n",
    "\n",
    "    # Plot the first dataset (TEMP.IN) on the primary y-axis\n",
    "    ax1.plot(df.index, df[\"TEMP.IN\"], color=\"r\", label=\"Temperature (TEMP.IN)\")\n",
    "    ax1.set_xlabel(\"Index\")\n",
    "    ax1.set_ylabel(\"Temperature (°C)\", color=\"r\")\n",
    "    ax1.tick_params(axis=\"y\", labelcolor=\"r\")\n",
    "\n",
    "    # Create a second y-axis for SAL\n",
    "    ax2 = ax1.twinx()\n",
    "    ax2.plot(df.index, df[\"SAL\"], color=\"b\", label=\"Salinity (SAL)\")\n",
    "    ax2.set_ylabel(\"Salinity\", color=\"b\")\n",
    "    ax2.tick_params(axis=\"y\", labelcolor=\"b\")\n",
    "\n",
    "    # Create a third y-axis for FLU.FIELDCAL using twinx and an offset\n",
    "    ax3 = ax1.twinx()\n",
    "    ax3.spines[\"right\"].set_position((\"outward\", 60))  # Offset the third y-axis to avoid overlap\n",
    "    ax3.scatter(df.index, df[\"FLU.FIELDCAL\"], color=\"c\", label=\"Fluorescence (FLU.FIELDCAL)\")\n",
    "    ax3.set_ylabel(\"Fluorescence\", color=\"c\")\n",
    "    ax3.tick_params(axis=\"y\", labelcolor=\"c\")\n",
    "\n",
    "    # Adjust layout\n",
    "    fig.tight_layout()"
   ]
  },
  {
   "cell_type": "code",
   "execution_count": null,
   "metadata": {},
   "outputs": [],
   "source": [
    "datadir = f\"{Path.home()}/data_ferrybox\"\n",
    "df = pd.read_csv(f\"{datadir}/ferrybox_colorline_2002-2018.csv\", dtype={\"Northbound\": \"str\"})\n",
    "df[\"Time\"] = pd.to_datetime(df[\"Time\"])\n",
    "df = df.iloc[:, :6]\n",
    "df = df.dropna()"
   ]
  },
  {
   "cell_type": "code",
   "execution_count": null,
   "metadata": {},
   "outputs": [],
   "source": [
    "# put snippets near oslo to separate dataframes\n",
    "df_filtered = df[df[\"LAT\"] > 59.5]\n",
    "df_filtered[\"group\"] = (df_filtered.index.to_series().diff() != 1).cumsum()\n",
    "dfs = [group for _, group in df_filtered.groupby(\"group\")]\n",
    "dfs = [df.drop(columns=[\"group\"]) for df in dfs]"
   ]
  },
  {
   "cell_type": "code",
   "execution_count": null,
   "metadata": {},
   "outputs": [],
   "source": [
    "len(dfs)"
   ]
  },
  {
   "cell_type": "code",
   "execution_count": null,
   "metadata": {},
   "outputs": [],
   "source": [
    "# keep increasing latitude only (on the way to Oslo)\n",
    "dfs = [df[df[\"LAT\"].diff().fillna(1) > 0] for df in dfs]\n",
    "# do not include points after a large time gap\n",
    "dfs = [keep_time_integrity(df) for df in dfs]\n",
    "# a snippet should cover most of the oslo fjord\n",
    "dfs = [df for df in dfs if df[\"LAT\"].iloc[0] < 59.6 and df[\"LAT\"].iloc[-1] > 59.8]"
   ]
  },
  {
   "cell_type": "code",
   "execution_count": null,
   "metadata": {},
   "outputs": [],
   "source": [
    "len(dfs)"
   ]
  },
  {
   "cell_type": "code",
   "execution_count": null,
   "metadata": {},
   "outputs": [],
   "source": [
    "snippet_lengths = np.array([len(df) for df in dfs])\n",
    "snippet_lengths"
   ]
  },
  {
   "cell_type": "code",
   "execution_count": null,
   "metadata": {},
   "outputs": [],
   "source": [
    "snippet_lengths.argmin()"
   ]
  },
  {
   "cell_type": "code",
   "execution_count": null,
   "metadata": {},
   "outputs": [],
   "source": [
    "times = [df[\"Time\"].iloc[0] for df in dfs]\n",
    "flues = [df[\"FLU.FIELDCAL\"].mean() for df in dfs]"
   ]
  },
  {
   "cell_type": "code",
   "execution_count": null,
   "metadata": {},
   "outputs": [],
   "source": [
    "# labeling\n",
    "three_days = timedelta(days=3)\n",
    "prev_time, prev_fluo = times[0], flues[0]\n",
    "labels = []\n",
    "for time, fluo in zip(times, flues):\n",
    "    if fluo > 1 and fluo > 1.5 * prev_fluo and (time - prev_time) < three_days:\n",
    "        labels.append(1)\n",
    "    else:\n",
    "        labels.append(0)\n",
    "    prev_fluo, prev_time = fluo, time"
   ]
  },
  {
   "cell_type": "code",
   "execution_count": null,
   "metadata": {},
   "outputs": [],
   "source": [
    "df_labels = pd.DataFrame(\n",
    "    {\n",
    "        \"timestamps\": times,\n",
    "        \"fluorescence\": flues,\n",
    "        \"labels\": labels,\n",
    "    }\n",
    ")"
   ]
  },
  {
   "cell_type": "code",
   "execution_count": null,
   "metadata": {},
   "outputs": [],
   "source": [
    "blooms = df_labels[df_labels[\"labels\"] == 1]"
   ]
  },
  {
   "cell_type": "code",
   "execution_count": null,
   "metadata": {},
   "outputs": [],
   "source": [
    "blooms"
   ]
  },
  {
   "cell_type": "code",
   "execution_count": null,
   "metadata": {},
   "outputs": [],
   "source": [
    "snippet = dfs[35].copy()\n",
    "snippet.set_index(\"Time\", inplace=True)"
   ]
  },
  {
   "cell_type": "code",
   "execution_count": null,
   "metadata": {},
   "outputs": [],
   "source": [
    "snippet"
   ]
  },
  {
   "cell_type": "code",
   "execution_count": null,
   "metadata": {},
   "outputs": [],
   "source": [
    "print(f\"Start date: {snippet.index[0]}\")\n",
    "print(f\"End date: {snippet.index[-1]}\")\n",
    "print(f\"Length: {len(snippet)}\")\n",
    "plot_temp_salt_flu(snippet)"
   ]
  },
  {
   "cell_type": "code",
   "execution_count": null,
   "metadata": {},
   "outputs": [],
   "source": []
  }
 ],
 "metadata": {
  "kernelspec": {
   "display_name": "Python 3 (ipykernel)",
   "language": "python",
   "name": "python3"
  },
  "language_info": {
   "codemirror_mode": {
    "name": "ipython",
    "version": 3
   },
   "file_extension": ".py",
   "mimetype": "text/x-python",
   "name": "python",
   "nbconvert_exporter": "python",
   "pygments_lexer": "ipython3",
   "version": "3.12.3"
  }
 },
 "nbformat": 4,
 "nbformat_minor": 4
}
