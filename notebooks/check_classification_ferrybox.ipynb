{
 "cells": [
  {
   "cell_type": "code",
   "execution_count": null,
   "metadata": {},
   "outputs": [],
   "source": [
    "import os\n",
    "from pathlib import Path\n",
    "\n",
    "import jax\n",
    "import matplotlib.pyplot as plt\n",
    "import numpy as np\n",
    "import orbax.checkpoint as ocp\n",
    "import pandas as pd\n",
    "from jax import numpy as jnp\n",
    "\n",
    "from blooms_ml.configs import classification_model\n",
    "from blooms_ml.learning import create_train_state\n",
    "from blooms_ml.utils import normalize_columns\n",
    "from blooms_ml.utils_ferrybox import add_previous, get_dataframe_ferrybox2002to2018, get_ferrytracks, get_rivers"
   ]
  },
  {
   "cell_type": "markdown",
   "metadata": {},
   "source": [
    "### Get & Prepare data"
   ]
  },
  {
   "cell_type": "code",
   "execution_count": null,
   "metadata": {},
   "outputs": [],
   "source": [
    "datadir = os.path.join(Path.home(), \"blooms-ml_data\")\n",
    "dfs = get_ferrytracks(datadir)\n",
    "df = get_dataframe_ferrybox2002to2018(dfs, normalize=False)\n",
    "df_rivers = get_rivers(datadir)\n",
    "df_merged = pd.merge_asof(df, df_rivers, on=\"timestamps\", direction=\"forward\")\n",
    "df_merged = df_merged.dropna().reset_index(drop=True)\n",
    "df_merged = normalize_columns(df_merged, slice(3, None))\n",
    "df_stacked = add_previous(df_merged)\n",
    "# split\n",
    "df_train = df_stacked[df_stacked[\"timestamps\"] < \"2015-01-01\"]\n",
    "df_test = df_stacked[df_stacked[\"timestamps\"] > \"2015-01-01\"]"
   ]
  },
  {
   "cell_type": "code",
   "execution_count": 30,
   "metadata": {},
   "outputs": [],
   "source": [
    "df_year = df_test[df_test[\"timestamps\"].dt.year == 2016]"
   ]
  },
  {
   "cell_type": "code",
   "execution_count": 31,
   "metadata": {},
   "outputs": [],
   "source": [
    "data = {\n",
    "    'label': df_year['labels'].values,\n",
    "    'observations': jnp.float32(df_year.drop(columns=[\"timestamps\", \"fluorescence\", \"labels\"]).values),\n",
    "}"
   ]
  },
  {
   "cell_type": "markdown",
   "metadata": {},
   "source": [
    "### Inference"
   ]
  },
  {
   "cell_type": "code",
   "execution_count": 32,
   "metadata": {},
   "outputs": [],
   "source": [
    "checkpointdir = os.path.join(Path.home(), \"blooms-ml_results/rhd0vg41/chkpt_epoch_010\")\n",
    "orbax_checkpointer = ocp.StandardCheckpointer()\n",
    "rng = jax.random.PRNGKey(0)  # jax.random.key(0)\n",
    "rng, init_rng = jax.random.split(rng)"
   ]
  },
  {
   "cell_type": "code",
   "execution_count": 33,
   "metadata": {},
   "outputs": [],
   "source": [
    "state = create_train_state(init_rng, classification_model(), data['observations'].shape)\n",
    "abstract_my_tree = jax.tree_util.tree_map(ocp.utils.to_shape_dtype_struct, state)"
   ]
  },
  {
   "cell_type": "code",
   "execution_count": 34,
   "metadata": {},
   "outputs": [],
   "source": [
    "state = orbax_checkpointer.restore(checkpointdir, args=ocp.args.StandardRestore(abstract_my_tree))"
   ]
  },
  {
   "cell_type": "code",
   "execution_count": 35,
   "metadata": {},
   "outputs": [],
   "source": [
    "logits = state.apply_fn({\"params\": state.params}, data['observations'])"
   ]
  },
  {
   "cell_type": "code",
   "execution_count": 36,
   "metadata": {},
   "outputs": [],
   "source": [
    "prediction = jax.nn.softmax(logits)[:, 1]"
   ]
  },
  {
   "cell_type": "markdown",
   "metadata": {},
   "source": [
    "### Visualization"
   ]
  },
  {
   "cell_type": "code",
   "execution_count": null,
   "metadata": {},
   "outputs": [],
   "source": [
    "df_year[\"prediction\"] = np.where(prediction > 0.5, 1, 0)\n",
    "df_year.set_index('timestamps', inplace=True)\n",
    "df_label = df_year[df_year[\"labels\"] == 1]\n",
    "df_prediction = df_year[df_year[\"prediction\"] == 1]"
   ]
  },
  {
   "cell_type": "code",
   "execution_count": null,
   "metadata": {},
   "outputs": [],
   "source": [
    "_, ax1 = plt.subplots(figsize=(20, 5))\n",
    "ax1.plot(df_year.index, df_year['fluorescence'], 'b-')\n",
    "ax1.plot(df_label.index, df_label['fluorescence'], 'r^')\n",
    "ax1.set_ylabel('Fluorescence', color='b')\n",
    "\n",
    "ax2 = ax1.twinx()\n",
    "ax2.plot(df_prediction.index, df_prediction['prediction'], 'cv')\n",
    "ax2.set_ylabel('Prediction', color='c')\n",
    "\n",
    "ax3 = ax1.twinx()\n",
    "ax3.spines['right'].set_position(('outward', 60))\n",
    "ax3.plot(df_year.index, df_year['Solbergfoss'], 'g-')\n",
    "ax3.set_ylabel('Glomma discharge', color='g')\n"
   ]
  },
  {
   "cell_type": "code",
   "execution_count": null,
   "metadata": {},
   "outputs": [],
   "source": []
  }
 ],
 "metadata": {
  "kernelspec": {
   "display_name": "blooms-ml",
   "language": "python",
   "name": "python3"
  },
  "language_info": {
   "codemirror_mode": {
    "name": "ipython",
    "version": 3
   },
   "file_extension": ".py",
   "mimetype": "text/x-python",
   "name": "python",
   "nbconvert_exporter": "python",
   "pygments_lexer": "ipython3",
   "version": "3.12.3"
  }
 },
 "nbformat": 4,
 "nbformat_minor": 2
}
