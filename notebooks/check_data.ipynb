{
 "cells": [
  {
   "cell_type": "code",
   "execution_count": null,
   "metadata": {},
   "outputs": [],
   "source": [
    "from pathlib import Path\n",
    "\n",
    "import matplotlib.pyplot as plt\n",
    "import numpy as np\n",
    "import pandas as pd\n",
    "import seaborn as sns\n",
    "\n",
    "from blooms_ml.utils import (\n",
    "    get_stats,\n",
    "    labeling,\n",
    ")"
   ]
  },
  {
   "cell_type": "code",
   "execution_count": null,
   "metadata": {},
   "outputs": [],
   "source": [
    "sns.set_style(\"whitegrid\")"
   ]
  },
  {
   "cell_type": "markdown",
   "metadata": {},
   "source": [
    "Open the prepared from ROHO800 model output data and label it"
   ]
  },
  {
   "cell_type": "code",
   "execution_count": null,
   "metadata": {},
   "outputs": [],
   "source": [
    "datadir = f\"{Path.home()}/data_ROHO\"\n",
    "df = pd.read_parquet(f\"{datadir}/roho800_weekly_average.parquet\")\n",
    "(p1_c_mean, n1_p_mean, n3_n_mean, n5_s_mean,\n",
    " p1_c_std, n1_p_std, n3_n_std, n5_s_std) = get_stats(f\"{datadir}/cnps_mean_std.csv\")"
   ]
  },
  {
   "cell_type": "code",
   "execution_count": null,
   "metadata": {},
   "outputs": [],
   "source": [
    "df = df.groupby(['station', 's_rho']).apply(labeling, include_groups=False)\n",
    "df = df.reset_index().drop(columns='level_2')"
   ]
  },
  {
   "cell_type": "code",
   "execution_count": null,
   "metadata": {},
   "outputs": [],
   "source": [
    "df.rename(columns={'label': 'y'}, inplace=True)\n",
    "df['label'] = np.where(df['y'] > 3, 1, 0)"
   ]
  },
  {
   "cell_type": "code",
   "execution_count": null,
   "metadata": {},
   "outputs": [],
   "source": [
    "df = df[df['y'].notna()]"
   ]
  },
  {
   "cell_type": "code",
   "execution_count": null,
   "metadata": {},
   "outputs": [],
   "source": [
    "plt.figure(figsize=(10, 6))\n",
    "sns.histplot(df['y'].clip(lower=-30, upper=30), kde=True, color='g', bins=30)\n",
    "plt.title('Histogram and KDE')\n",
    "plt.xlabel('Value')\n",
    "plt.ylabel('Frequency')\n",
    "plt.show()"
   ]
  },
  {
   "cell_type": "code",
   "execution_count": null,
   "metadata": {},
   "outputs": [],
   "source": [
    "df"
   ]
  },
  {
   "cell_type": "markdown",
   "metadata": {},
   "source": [
    "\"Normalization\""
   ]
  },
  {
   "cell_type": "code",
   "execution_count": null,
   "metadata": {},
   "outputs": [],
   "source": [
    "df_norm = df  # .copy()"
   ]
  },
  {
   "cell_type": "code",
   "execution_count": null,
   "metadata": {},
   "outputs": [],
   "source": [
    "df_norm['P1_c'] = ((df_norm['P1_c'] - float(p1_c_mean)) / float(p1_c_std)).round(2).astype('float32')\n",
    "df_norm['N1_p'] = ((df_norm['N1_p'] - float(n1_p_mean)) / float(n1_p_std)).round(2).astype('float32')\n",
    "df_norm['N3_n'] = ((df_norm['N3_n'] - float(n3_n_mean)) / float(n3_n_std)).round(2).astype('float32')\n",
    "df_norm['N5_s'] = ((df_norm['N5_s'] - float(n5_s_mean)) / float(n5_s_std)).round(2).astype('float32')"
   ]
  },
  {
   "cell_type": "code",
   "execution_count": null,
   "metadata": {},
   "outputs": [],
   "source": [
    "df_norm"
   ]
  },
  {
   "cell_type": "markdown",
   "metadata": {},
   "source": [
    "Plot a station"
   ]
  },
  {
   "cell_type": "code",
   "execution_count": null,
   "metadata": {},
   "outputs": [],
   "source": [
    "df_station = df[df['station'] == 0][df['s_rho'] == -0.02]\n",
    "df_station.set_index('ocean_time', inplace=True)\n",
    "df_station"
   ]
  },
  {
   "cell_type": "code",
   "execution_count": null,
   "metadata": {},
   "outputs": [],
   "source": [
    "plot_year = '2008'\n",
    "df_year = df_station.loc[plot_year]\n",
    "df_label_year = df_year[df_year['label'] == 1]"
   ]
  },
  {
   "cell_type": "code",
   "execution_count": null,
   "metadata": {},
   "outputs": [],
   "source": [
    "def plot_year(par):\n",
    "    _, ax = plt.subplots(figsize=(20, 3))\n",
    "    ax.plot(df_year[par].index, df_year[par])\n",
    "    ax.plot(df_label_year.index, df_label_year[par], 'r.')"
   ]
  },
  {
   "cell_type": "code",
   "execution_count": null,
   "metadata": {},
   "outputs": [],
   "source": [
    "plot_year('P1_c')"
   ]
  },
  {
   "cell_type": "code",
   "execution_count": null,
   "metadata": {},
   "outputs": [],
   "source": [
    "plot_year('N5_s')"
   ]
  },
  {
   "cell_type": "code",
   "execution_count": null,
   "metadata": {},
   "outputs": [],
   "source": []
  }
 ],
 "metadata": {
  "kernelspec": {
   "display_name": "blooms-ml",
   "language": "python",
   "name": "python3"
  },
  "language_info": {
   "codemirror_mode": {
    "name": "ipython",
    "version": 3
   },
   "file_extension": ".py",
   "mimetype": "text/x-python",
   "name": "python",
   "nbconvert_exporter": "python",
   "pygments_lexer": "ipython3",
   "version": "3.11.9"
  }
 },
 "nbformat": 4,
 "nbformat_minor": 2
}
