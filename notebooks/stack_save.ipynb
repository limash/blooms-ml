{
 "cells": [
  {
   "cell_type": "code",
   "execution_count": null,
   "metadata": {},
   "outputs": [],
   "source": [
    "from pathlib import Path\n",
    "\n",
    "import pandas as pd\n",
    "\n",
    "from blooms_ml.utils import (\n",
    "    add_previous,\n",
    "    get_stats,\n",
    ")"
   ]
  },
  {
   "cell_type": "markdown",
   "metadata": {},
   "source": [
    "Open the prepared from ROHO800 model output data and label it"
   ]
  },
  {
   "cell_type": "code",
   "execution_count": null,
   "metadata": {},
   "outputs": [],
   "source": [
    "datadir = f\"{Path.home()}/data_ROHO\"\n",
    "df = pd.read_parquet(f\"{datadir}/roho800_weekly_average.parquet\")\n",
    "(p1_c_mean, n1_p_mean, n3_n_mean, n5_s_mean,\n",
    " p1_c_std, n1_p_std, n3_n_std, n5_s_std) = get_stats(f\"{datadir}/cnps_mean_std.csv\")"
   ]
  },
  {
   "cell_type": "markdown",
   "metadata": {},
   "source": [
    "\"Normalization\""
   ]
  },
  {
   "cell_type": "code",
   "execution_count": null,
   "metadata": {},
   "outputs": [],
   "source": [
    "df['P1_c'] = ((df['P1_c'] - float(p1_c_mean)) / float(p1_c_std)).round(2).astype('float32')\n",
    "df['N1_p'] = ((df['N1_p'] - float(n1_p_mean)) / float(n1_p_std)).round(2).astype('float32')\n",
    "df['N3_n'] = ((df['N3_n'] - float(n3_n_mean)) / float(n3_n_std)).round(2).astype('float32')\n",
    "df['N5_s'] = ((df['N5_s'] - float(n5_s_mean)) / float(n5_s_std)).round(2).astype('float32')\n",
    "df['rho'] = ((df['rho'] - df['rho'].mean()) / df['rho'].std()).round(2).astype('float32')"
   ]
  },
  {
   "cell_type": "code",
   "execution_count": null,
   "metadata": {},
   "outputs": [],
   "source": [
    "df = df.groupby(['station', 's_rho']).apply(add_previous, include_groups=False)\n",
    "df = df.reset_index().drop(columns='level_2')"
   ]
  },
  {
   "cell_type": "code",
   "execution_count": null,
   "metadata": {},
   "outputs": [],
   "source": [
    "df.isna().any().any()"
   ]
  },
  {
   "cell_type": "code",
   "execution_count": null,
   "metadata": {},
   "outputs": [],
   "source": [
    "df"
   ]
  },
  {
   "cell_type": "code",
   "execution_count": null,
   "metadata": {},
   "outputs": [],
   "source": [
    "df.to_parquet(f\"{Path.home()}/data_ROHO/roho800_weekly_average_stacked.parquet\", index=False, engine='pyarrow')"
   ]
  },
  {
   "cell_type": "code",
   "execution_count": null,
   "metadata": {},
   "outputs": [],
   "source": []
  }
 ],
 "metadata": {
  "kernelspec": {
   "display_name": "blooms-ml",
   "language": "python",
   "name": "python3"
  },
  "language_info": {
   "codemirror_mode": {
    "name": "ipython",
    "version": 3
   },
   "file_extension": ".py",
   "mimetype": "text/x-python",
   "name": "python",
   "nbconvert_exporter": "python",
   "pygments_lexer": "ipython3",
   "version": "3.12.3"
  }
 },
 "nbformat": 4,
 "nbformat_minor": 2
}
