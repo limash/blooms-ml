{
  "cells": [
    {
      "cell_type": "markdown",
      "metadata": {
        "id": "sgaHaBA4pFW0"
      },
      "source": [
        "## Check data for algae blooms identification."
      ]
    },
    {
      "cell_type": "markdown",
      "metadata": {
        "id": "-Kb2N9DLdKmQ"
      },
      "source": [
        "The idea is to take the modeled data and train a machine learning (ML) model on that data, then try to use on the observational data.\n",
        "The reason - models can't predict very well the exact time and location of algae blooms but they reproduce the physics/biogeochemistry of it.\n",
        "Thus, the intuition to check is that a ML model trained on modelled data will be able to predict blooms on observational data."
      ]
    },
    {
      "cell_type": "code",
      "execution_count": 1,
      "metadata": {},
      "outputs": [],
      "source": [
        "import os\n",
        "from pathlib import Path\n",
        "\n",
        "import matplotlib.pyplot as plt\n",
        "import pandas as pd\n",
        "import seaborn as sns\n",
        "\n",
        "from blooms_ml.utils import (\n",
        "    labeling,\n",
        ")\n",
        "\n",
        "sns.set_style(\"whitegrid\")"
      ]
    },
    {
      "cell_type": "markdown",
      "metadata": {},
      "source": [
        "Open the prepared from ROHO800 model output data and label it"
      ]
    },
    {
      "cell_type": "code",
      "execution_count": 2,
      "metadata": {},
      "outputs": [],
      "source": [
        "datadir = f\"{Path.home()}/data_ROHO\"\n",
        "df = pd.read_parquet(os.path.join(datadir, \"roho800_weekly_average.parquet\"))"
      ]
    },
    {
      "cell_type": "code",
      "execution_count": 3,
      "metadata": {},
      "outputs": [],
      "source": [
        "df = df.groupby([\"station\", \"s_rho\"]).apply(labeling, include_groups=False)\n",
        "df = df.reset_index().drop(columns=\"level_2\")"
      ]
    },
    {
      "cell_type": "code",
      "execution_count": null,
      "metadata": {},
      "outputs": [],
      "source": [
        "df"
      ]
    },
    {
      "cell_type": "code",
      "execution_count": 5,
      "metadata": {},
      "outputs": [],
      "source": [
        "VARIABLES = [*[\"N1_p\", \"N3_n\", \"N5_s\", \"P1_c\"], *[str(i) for i in range(1, 26)]]\n",
        "def to_differences(df):\n",
        "    df = df.reset_index(drop=True)\n",
        "    df_diff1 = (df[VARIABLES].diff(periods=1))[2:]\n",
        "    df_diff1 = df_diff1.rename(columns=lambda x: x + '_diff1')\n",
        "    df_diff2 = (df[VARIABLES].diff(periods=2))[2:]\n",
        "    df_diff2 = df_diff2.rename(columns=lambda x: x + '_diff2')\n",
        "    df_diff = pd.concat([df_diff1, df_diff2], axis=1)\n",
        "    df_diff[[\"ocean_time\", \"label\"]] = df[[\"ocean_time\", \"label\"]]\n",
        "    return df_diff"
      ]
    },
    {
      "cell_type": "code",
      "execution_count": 6,
      "metadata": {},
      "outputs": [],
      "source": [
        "df_diff = df.groupby([\"station\", \"s_rho\"]).apply(to_differences, include_groups=False)\n",
        "df_diff = df_diff.reset_index().drop(columns=\"level_2\")"
      ]
    },
    {
      "cell_type": "markdown",
      "metadata": {},
      "source": [
        "Plot a station"
      ]
    },
    {
      "cell_type": "code",
      "execution_count": null,
      "metadata": {},
      "outputs": [],
      "source": [
        "df_station = df[df[\"station\"] == 0][df[\"s_rho\"] == -0.02]\n",
        "df_station.set_index(\"ocean_time\", inplace=True)"
      ]
    },
    {
      "cell_type": "code",
      "execution_count": 13,
      "metadata": {},
      "outputs": [],
      "source": [
        "plot_year = \"2008\"\n",
        "df_year = df_station.loc[plot_year]\n",
        "df_label_year = df_year[df_year[\"label\"] == 1]"
      ]
    },
    {
      "cell_type": "code",
      "execution_count": 14,
      "metadata": {},
      "outputs": [],
      "source": [
        "def plot_year(par):\n",
        "    _, ax = plt.subplots(figsize=(20, 3))\n",
        "    ax.plot(df_year[par].index, df_year[par])\n",
        "    ax.plot(df_label_year.index, df_label_year[par], \"r.\")"
      ]
    },
    {
      "cell_type": "code",
      "execution_count": null,
      "metadata": {},
      "outputs": [],
      "source": [
        "plot_year(\"P1_c\")"
      ]
    },
    {
      "cell_type": "code",
      "execution_count": null,
      "metadata": {},
      "outputs": [],
      "source": [
        "plot_year(\"N5_s\")"
      ]
    },
    {
      "cell_type": "markdown",
      "metadata": {},
      "source": [
        "Unsupervised"
      ]
    },
    {
      "cell_type": "code",
      "execution_count": 14,
      "metadata": {},
      "outputs": [],
      "source": [
        "import time\n",
        "\n",
        "from sklearn.decomposition import PCA"
      ]
    },
    {
      "cell_type": "code",
      "execution_count": 15,
      "metadata": {},
      "outputs": [],
      "source": [
        "df_surface = df_norm[df_norm[\"s_rho\"] == -0.02]"
      ]
    },
    {
      "cell_type": "code",
      "execution_count": 16,
      "metadata": {},
      "outputs": [],
      "source": [
        "df_density_profiles = df_surface.drop(\n",
        "    columns=[\"station\", \"s_rho\", \"ocean_time\", \"N1_p\", \"N3_n\", \"N5_s\", \"P1_c\", \"rho\", \"y\"]\n",
        ")"
      ]
    },
    {
      "cell_type": "code",
      "execution_count": 20,
      "metadata": {},
      "outputs": [],
      "source": [
        "df_nutrients = df_surface[[\"N1_p\", \"N3_n\", \"N5_s\", \"P1_c\", \"label\"]]"
      ]
    },
    {
      "cell_type": "code",
      "execution_count": 24,
      "metadata": {},
      "outputs": [],
      "source": [
        "X = df_nutrients.drop(\"label\", axis=1)\n",
        "y = df_nutrients[\"label\"]"
      ]
    },
    {
      "cell_type": "code",
      "execution_count": null,
      "metadata": {},
      "outputs": [],
      "source": [
        "# PCA\n",
        "t0 = time.time()\n",
        "pca = PCA(n_components=3, random_state=42)\n",
        "X_reduced_pca = pca.fit_transform(X.values)\n",
        "t1 = time.time()\n",
        "print(f\"PCA took {t1 - t0:.2} s\")"
      ]
    },
    {
      "cell_type": "code",
      "execution_count": null,
      "metadata": {},
      "outputs": [],
      "source": [
        "print(pca.explained_variance_ratio_)"
      ]
    },
    {
      "cell_type": "code",
      "execution_count": 27,
      "metadata": {},
      "outputs": [],
      "source": [
        "import matplotlib.patches as mpatches"
      ]
    },
    {
      "cell_type": "code",
      "execution_count": null,
      "metadata": {},
      "outputs": [],
      "source": [
        "f, ax = plt.subplots(1, 1, figsize=(8, 8))\n",
        "f.suptitle(\"Clusters using Dimensionality Reduction\", fontsize=14)\n",
        "\n",
        "blue_patch = mpatches.Patch(color=\"#0A0AFF\", label=\"No bloom\")\n",
        "red_patch = mpatches.Patch(color=\"#AF0000\", label=\"bloom\")\n",
        "\n",
        "# PCA scatter plot\n",
        "ax.scatter(X_reduced_pca[:, 0], X_reduced_pca[:, 1], c=(y == 0), cmap=\"coolwarm\", label=\"No bloom\", linewidths=2)\n",
        "ax.scatter(X_reduced_pca[:, 0], X_reduced_pca[:, 1], c=(y == 1), cmap=\"coolwarm\", label=\"bloom\", linewidths=2)\n",
        "ax.set_title(\"PCA\", fontsize=14)\n",
        "\n",
        "ax.grid(True)\n",
        "\n",
        "ax.legend(handles=[blue_patch, red_patch])\n",
        "\n",
        "plt.show()"
      ]
    },
    {
      "cell_type": "markdown",
      "metadata": {},
      "source": [
        "Classification"
      ]
    },
    {
      "cell_type": "code",
      "execution_count": null,
      "metadata": {},
      "outputs": [],
      "source": [
        "from sklearn.linear_model import LogisticRegression\n",
        "from sklearn.metrics import confusion_matrix\n",
        "from sklearn.model_selection import cross_val_score, train_test_split\n",
        "from sklearn.neighbors import KNeighborsClassifier\n",
        "from sklearn.svm import SVC\n",
        "from sklearn.tree import DecisionTreeClassifier"
      ]
    },
    {
      "cell_type": "code",
      "execution_count": null,
      "metadata": {},
      "outputs": [],
      "source": [
        "df_input"
      ]
    },
    {
      "cell_type": "code",
      "execution_count": null,
      "metadata": {},
      "outputs": [],
      "source": [
        "X = df_input.drop(columns=[\"station\", \"ocean_time\", \"s_rho\", \"P1_c\", \"P1_netPI\", \"label\"])\n",
        "y = df_input[\"label\"]"
      ]
    },
    {
      "cell_type": "code",
      "execution_count": null,
      "metadata": {},
      "outputs": [],
      "source": [
        "X_train, X_test, y_train, y_test = train_test_split(X, y, test_size=0.2, random_state=42)"
      ]
    },
    {
      "cell_type": "code",
      "execution_count": null,
      "metadata": {},
      "outputs": [],
      "source": [
        "X_train = X_train.values\n",
        "X_test = X_test.values\n",
        "y_train = y_train.values\n",
        "y_test = y_test.values"
      ]
    },
    {
      "cell_type": "code",
      "execution_count": null,
      "metadata": {},
      "outputs": [],
      "source": [
        "classifiers = {\n",
        "    \"LogisiticRegression\": LogisticRegression(),\n",
        "    \"KNearest\": KNeighborsClassifier(),\n",
        "    \"Support Vector Classifier\": SVC(),\n",
        "    \"DecisionTreeClassifier\": DecisionTreeClassifier(),\n",
        "}"
      ]
    },
    {
      "cell_type": "code",
      "execution_count": null,
      "metadata": {},
      "outputs": [],
      "source": [
        "for key, classifier in classifiers.items():\n",
        "    classifier.fit(X_train, y_train)\n",
        "    training_score = cross_val_score(classifier, X_test, y_test, cv=5)\n",
        "    print(\n",
        "        \"Classifiers: \",\n",
        "        classifier.__class__.__name__,\n",
        "        \"Has a training score of\",\n",
        "        round(training_score.mean(), 2) * 100,\n",
        "        \"% accuracy score\",\n",
        "    )"
      ]
    },
    {
      "cell_type": "code",
      "execution_count": null,
      "metadata": {},
      "outputs": [],
      "source": [
        "log_reg_sm = LogisticRegression()"
      ]
    },
    {
      "cell_type": "code",
      "execution_count": null,
      "metadata": {},
      "outputs": [],
      "source": [
        "log_reg_sm.fit(X_train, y_train)"
      ]
    },
    {
      "cell_type": "code",
      "execution_count": null,
      "metadata": {},
      "outputs": [],
      "source": [
        "y_pred_log_reg = log_reg_sm.predict(X_test)"
      ]
    },
    {
      "cell_type": "code",
      "execution_count": null,
      "metadata": {},
      "outputs": [],
      "source": [
        "labels = [\"No bloom\", \"bloom\"]\n",
        "plot_confusion_matrix(confusion_matrix(y_test, y_pred_log_reg), labels, title=\"Confusion Matrix\", cmap=plt.cm.Reds)"
      ]
    },
    {
      "cell_type": "code",
      "execution_count": null,
      "metadata": {},
      "outputs": [],
      "source": []
    }
  ],
  "metadata": {
    "colab": {
      "provenance": [],
      "toc_visible": true
    },
    "kernelspec": {
      "display_name": "Python 3",
      "name": "python3"
    },
    "language_info": {
      "codemirror_mode": {
        "name": "ipython",
        "version": 3
      },
      "file_extension": ".py",
      "mimetype": "text/x-python",
      "name": "python",
      "nbconvert_exporter": "python",
      "pygments_lexer": "ipython3",
      "version": "3.12.3"
    }
  },
  "nbformat": 4,
  "nbformat_minor": 0
}
