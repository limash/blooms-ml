{
 "cells": [
  {
   "cell_type": "code",
   "execution_count": null,
   "metadata": {},
   "outputs": [],
   "source": [
    "from pathlib import Path\n",
    "\n",
    "import pandas as pd\n",
    "\n",
    "from blooms_ml.utils_ferrybox import get_dataframe_ferrybox2002to2018, get_ferrytracks, plot_temp_salt_flu"
   ]
  },
  {
   "cell_type": "code",
   "execution_count": null,
   "metadata": {},
   "outputs": [],
   "source": [
    "VARIABLES = [*[\"timestamps\"], *[f\"temp_{i}\" for i in range(64)], *[f\"salt_{i}\" for i in range(64)]]"
   ]
  },
  {
   "cell_type": "code",
   "execution_count": null,
   "metadata": {},
   "outputs": [],
   "source": [
    "datadir = f\"{Path.home()}/data_ferrybox\"\n",
    "dfs = get_ferrytracks(datadir)"
   ]
  },
  {
   "cell_type": "code",
   "execution_count": null,
   "metadata": {},
   "outputs": [],
   "source": [
    "df_labels = get_dataframe_ferrybox2002to2018(dfs)"
   ]
  },
  {
   "cell_type": "code",
   "execution_count": null,
   "metadata": {},
   "outputs": [],
   "source": [
    "df_labels"
   ]
  },
  {
   "cell_type": "code",
   "execution_count": null,
   "metadata": {},
   "outputs": [],
   "source": [
    "def to_differences(df):\n",
    "    df = df.reset_index(drop=True)\n",
    "    df_diff1 = (df[VARIABLES].diff(periods=1))[2:]\n",
    "    df_diff1 = df_diff1.rename(columns=lambda x: x + \"_diff1\")\n",
    "    df_diff2 = (df[VARIABLES].diff(periods=2))[2:]\n",
    "    df_diff2 = df_diff2.rename(columns=lambda x: x + \"_diff2\")\n",
    "    df_diff = pd.concat([df_diff1, df_diff2], axis=1)\n",
    "    df_diff[[\"timestamps\", \"labels\"]] = df[[\"timestamps\", \"labels\"]]\n",
    "    return df_diff"
   ]
  },
  {
   "cell_type": "code",
   "execution_count": null,
   "metadata": {},
   "outputs": [],
   "source": [
    "df_labels_diff = to_differences(df_labels)\n",
    "df_labels_diff = df_labels_diff[df_labels_diff[\"timestamps_diff2\"] < pd.Timedelta(days=7)]"
   ]
  },
  {
   "cell_type": "code",
   "execution_count": null,
   "metadata": {},
   "outputs": [],
   "source": [
    "blooms = df_labels[df_labels[\"labels\"] == 1]"
   ]
  },
  {
   "cell_type": "code",
   "execution_count": null,
   "metadata": {},
   "outputs": [],
   "source": [
    "blooms"
   ]
  },
  {
   "cell_type": "code",
   "execution_count": null,
   "metadata": {},
   "outputs": [],
   "source": [
    "snippet = dfs[100].copy()\n",
    "snippet.set_index(\"Time\", inplace=True)"
   ]
  },
  {
   "cell_type": "code",
   "execution_count": null,
   "metadata": {},
   "outputs": [],
   "source": [
    "print(f\"Start date: {snippet.index[0]}\")\n",
    "print(f\"End date: {snippet.index[-1]}\")\n",
    "print(f\"Length: {len(snippet)}\")\n",
    "plot_temp_salt_flu(snippet)"
   ]
  },
  {
   "cell_type": "markdown",
   "metadata": {},
   "source": [
    "PCA"
   ]
  },
  {
   "cell_type": "code",
   "execution_count": null,
   "metadata": {},
   "outputs": [],
   "source": [
    "import time\n",
    "\n",
    "from sklearn.decomposition import PCA"
   ]
  },
  {
   "cell_type": "code",
   "execution_count": null,
   "metadata": {},
   "outputs": [],
   "source": [
    "df_labels_diff"
   ]
  },
  {
   "cell_type": "code",
   "execution_count": null,
   "metadata": {},
   "outputs": [],
   "source": [
    "X = df_labels_diff.drop([\"timestamps_diff1\", \"timestamps_diff2\", \"timestamps\", \"labels\"], axis=1)\n",
    "y = df_labels_diff[\"labels\"]"
   ]
  },
  {
   "cell_type": "code",
   "execution_count": null,
   "metadata": {},
   "outputs": [],
   "source": [
    "# PCA\n",
    "t0 = time.time()\n",
    "pca = PCA(n_components=10, random_state=42)\n",
    "X_reduced_pca = pca.fit_transform(X.values)\n",
    "t1 = time.time()\n",
    "print(f\"PCA took {t1 - t0:.2} s\")"
   ]
  },
  {
   "cell_type": "code",
   "execution_count": null,
   "metadata": {},
   "outputs": [],
   "source": [
    "print(pca.explained_variance_ratio_)"
   ]
  },
  {
   "cell_type": "code",
   "execution_count": null,
   "metadata": {},
   "outputs": [],
   "source": [
    "x1, x2, x3 = X_reduced_pca[::3, 0], X_reduced_pca[::3, 1], X_reduced_pca[::3, 2]"
   ]
  },
  {
   "cell_type": "code",
   "execution_count": null,
   "metadata": {},
   "outputs": [],
   "source": [
    "import matplotlib.patches as mpatches\n",
    "import matplotlib.pyplot as plt"
   ]
  },
  {
   "cell_type": "code",
   "execution_count": null,
   "metadata": {},
   "outputs": [],
   "source": [
    "# Create a 3D scatter plot\n",
    "fig = plt.figure(figsize=(8, 8))\n",
    "ax = fig.add_subplot(111, projection='3d')\n",
    "\n",
    "blue_patch = mpatches.Patch(color=\"#0A0AFF\", label=\"No bloom\")\n",
    "red_patch = mpatches.Patch(color=\"#AF0000\", label=\"bloom\")\n",
    "\n",
    "# Scatter plot\n",
    "ax.scatter(x1, x2, x3, c=(y[::3] == 0), cmap=\"coolwarm\", label=\"No bloom\", linewidths=2)\n",
    "ax.scatter(x1, x2, x3, c=(y[::3] == 1), cmap=\"coolwarm\", label=\"bloom\", linewidths=2)\n",
    "\n",
    "ax.grid(True)\n",
    "ax.legend(handles=[blue_patch, red_patch])\n",
    "plt.show()"
   ]
  },
  {
   "cell_type": "markdown",
   "metadata": {},
   "source": [
    "Classification"
   ]
  },
  {
   "cell_type": "code",
   "execution_count": null,
   "metadata": {},
   "outputs": [],
   "source": [
    "from sklearn.model_selection import cross_val_score, train_test_split"
   ]
  },
  {
   "cell_type": "code",
   "execution_count": null,
   "metadata": {},
   "outputs": [],
   "source": [
    "X_train, X_test, y_train, y_test = train_test_split(X, y, test_size=0.2, random_state=42)"
   ]
  },
  {
   "cell_type": "code",
   "execution_count": null,
   "metadata": {},
   "outputs": [],
   "source": [
    "X_train = X_train.values\n",
    "X_test = X_test.values\n",
    "y_train = y_train.values\n",
    "y_test = y_test.values"
   ]
  },
  {
   "cell_type": "code",
   "execution_count": null,
   "metadata": {},
   "outputs": [],
   "source": [
    "from sklearn.tree import DecisionTreeClassifier"
   ]
  },
  {
   "cell_type": "code",
   "execution_count": null,
   "metadata": {},
   "outputs": [],
   "source": [
    "classifier = DecisionTreeClassifier()"
   ]
  },
  {
   "cell_type": "code",
   "execution_count": null,
   "metadata": {},
   "outputs": [],
   "source": [
    "classifier.fit(X_train, y_train)"
   ]
  },
  {
   "cell_type": "code",
   "execution_count": null,
   "metadata": {},
   "outputs": [],
   "source": [
    "training_score = cross_val_score(classifier, X_test, y_test, cv=5)"
   ]
  },
  {
   "cell_type": "code",
   "execution_count": null,
   "metadata": {},
   "outputs": [],
   "source": [
    "print(\n",
    "    \"Classifier: \",\n",
    "    classifier.__class__.__name__,\n",
    "    \"Has a training score of\",\n",
    "    round(training_score.mean(), 2) * 100,\n",
    "    \"% accuracy score\",\n",
    ")"
   ]
  },
  {
   "cell_type": "code",
   "execution_count": null,
   "metadata": {},
   "outputs": [],
   "source": []
  }
 ],
 "metadata": {
  "kernelspec": {
   "display_name": "Python 3 (ipykernel)",
   "language": "python",
   "name": "python3"
  },
  "language_info": {
   "codemirror_mode": {
    "name": "ipython",
    "version": 3
   },
   "file_extension": ".py",
   "mimetype": "text/x-python",
   "name": "python",
   "nbconvert_exporter": "python",
   "pygments_lexer": "ipython3",
   "version": "3.12.3"
  }
 },
 "nbformat": 4,
 "nbformat_minor": 4
}
